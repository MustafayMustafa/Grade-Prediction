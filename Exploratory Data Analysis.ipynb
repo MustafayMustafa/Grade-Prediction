{
 "cells": [
  {
   "cell_type": "markdown",
   "metadata": {},
   "source": [
    "# Exploratory Data Analysis\n",
    "Using EDA I will analyse the data to identify trends and correlations between variables and the final grade."
   ]
  },
  {
   "cell_type": "markdown",
   "metadata": {},
   "source": [
    "> Import Student data."
   ]
  },
  {
   "cell_type": "code",
   "execution_count": null,
   "metadata": {},
   "outputs": [],
   "source": [
    "import pandas as pd\n",
    "\n",
    "# Import student data\n",
    "df = pd.read_csv('data/student/x.csv', sep=',')\n",
    "df.head()"
   ]
  },
  {
   "cell_type": "markdown",
   "metadata": {},
   "source": [
    "> Checking skewness of the final grade distribution"
   ]
  },
  {
   "cell_type": "code",
   "execution_count": null,
   "metadata": {},
   "outputs": [],
   "source": [
    "# plot histogram of final grade (G3)\n",
    "plt.hist(df['G3'])\n",
    "plt.xlabel('G3')\n",
    "plt.ylabel('Frequency')\n",
    "plt.title('Final Grade distribution')"
   ]
  },
  {
   "cell_type": "markdown",
   "metadata": {},
   "source": [
    "data looks about normally distributed, with a modal score at around 11-12"
   ]
  },
  {
   "cell_type": "markdown",
   "metadata": {},
   "source": [
    "> Feature Selection\n",
    "* Correlation coefficient to determine most useuful variables"
   ]
  },
  {
   "cell_type": "code",
   "execution_count": null,
   "metadata": {},
   "outputs": [],
   "source": [
    "# obtain variables with correlation to final grade and sort\n",
    "df.corr()['G3'].sort_values()"
   ]
  },
  {
   "cell_type": "markdown",
   "metadata": {},
   "source": [
    "anomalie: absences show positive correlation, where this should be expected as a negative correlation"
   ]
  },
  {
   "cell_type": "markdown",
   "metadata": {},
   "source": [
    "> hot encodeing categorical variables"
   ]
  },
  {
   "cell_type": "code",
   "execution_count": null,
   "metadata": {},
   "outputs": [],
   "source": [
    "# select categorical values only\n",
    "categorical_df = df.select_dtypes('object')\n",
    "\n",
    "# ensure there are no null values\n",
    "categorical_df.isnull()\n",
    "\n",
    "categorical_df.head()"
   ]
  },
  {
   "cell_type": "code",
   "execution_count": null,
   "metadata": {},
   "outputs": [],
   "source": [
    "# One-hot encode\n",
    "ohe_df = pd.get_dummies(categorical_df)\n",
    "\n",
    "\n",
    "ohe_df['G3'] = df['G3']\n",
    "\n",
    "# get correlations\n",
    "ohe_df.corr()['G3'].sort_values()"
   ]
  },
  {
   "cell_type": "code",
   "execution_count": null,
   "metadata": {},
   "outputs": [],
   "source": [
    "# return most correlated variables with the final grade\n",
    "# parameters: df - data frame, size - amount of variables to retain\n",
    "def getMostCorrelated(df, size):\n",
    "    # One-Hot Encode Categorical Variables\n",
    "    df = pd.get_dummies(df)\n",
    "    \n",
    "    # Find correlations with the Grade\n",
    "    greatest = df.corr().abs()['G3'].sort_values(ascending=False)\n",
    "    \n",
    "    # retain correlated variables according to size passed\n",
    "    \n",
    "    greatest = greatest[:size+1]\n",
    "    print(greatest)\n",
    "    \n",
    "    df = df.loc[:, greatest.index]\n",
    "    \n",
    "    return df"
   ]
  },
  {
   "cell_type": "code",
   "execution_count": null,
   "metadata": {},
   "outputs": [],
   "source": [
    "getMostCorrelated(df, 6)"
   ]
  },
  {
   "cell_type": "code",
   "execution_count": null,
   "metadata": {},
   "outputs": [],
   "source": [
    "# Split the data for training and testing\n",
    "# split: 25%\n",
    "from sklearn.model_selection import train_test_split\n",
    "\n",
    "def split_data(df):\n",
    "    X_train, X_test, y_train, y_test = train_test_split(df, df['G3'], test_size=0.25, random_state=42)\n",
    "    \n",
    "    return X_train, X_test, y_train, y_test"
   ]
  },
  {
   "cell_type": "code",
   "execution_count": 81,
   "metadata": {},
   "outputs": [
    {
     "name": "stdout",
     "output_type": "stream",
     "text": [
      "G3            1.000000\n",
      "G2            0.904868\n",
      "G1            0.801468\n",
      "failures      0.360415\n",
      "Medu          0.217147\n",
      "higher_yes    0.182465\n",
      "higher_no     0.182465\n",
      "age           0.161579\n",
      "Name: G3, dtype: float64\n"
     ]
    },
    {
     "data": {
      "text/plain": [
       "(     G3  G2  G1  failures  Medu  higher_yes  higher_no  age\n",
       " 16   14  14  13         0     4           1          0   16\n",
       " 66   12  13  13         0     4           1          0   15\n",
       " 211  13  12  12         0     4           1          0   17\n",
       " 7     6   5   6         0     4           1          0   17\n",
       " 19   10  10   8         0     4           1          0   16\n",
       " ..   ..  ..  ..       ...   ...         ...        ...  ...\n",
       " 71   10  10  10         0     4           1          0   15\n",
       " 106   8   8   7         0     2           1          0   15\n",
       " 270   9   9   9         2     3           1          0   19\n",
       " 348  15  15  13         0     4           1          0   17\n",
       " 102  14  13  10         0     4           1          0   15\n",
       " \n",
       " [296 rows x 8 columns],\n",
       "      G3  G2  G1  failures  Medu  higher_yes  higher_no  age\n",
       " 78   10   8   8         3     2           0          1   17\n",
       " 371  12  12  14         0     1           0          1   18\n",
       " 248   5   5   3         1     3           1          0   18\n",
       " 55   10   9   8         0     2           1          0   16\n",
       " 390   9   9   9         2     2           1          0   20\n",
       " ..   ..  ..  ..       ...   ...         ...        ...  ...\n",
       " 367   0   6   7         1     1           1          0   17\n",
       " 210   8   8   8         0     3           1          0   19\n",
       " 75   10   9   9         0     4           1          0   15\n",
       " 104  18  18  16         0     3           1          0   15\n",
       " 374  19  18  19         0     4           1          0   18\n",
       " \n",
       " [99 rows x 8 columns],\n",
       " 16     14\n",
       " 66     12\n",
       " 211    13\n",
       " 7       6\n",
       " 19     10\n",
       "        ..\n",
       " 71     10\n",
       " 106     8\n",
       " 270     9\n",
       " 348    15\n",
       " 102    14\n",
       " Name: G3, Length: 296, dtype: int64,\n",
       " 78     10\n",
       " 371    12\n",
       " 248     5\n",
       " 55     10\n",
       " 390     9\n",
       "        ..\n",
       " 367     0\n",
       " 210     8\n",
       " 75     10\n",
       " 104    18\n",
       " 374    19\n",
       " Name: G3, Length: 99, dtype: int64)"
      ]
     },
     "execution_count": 81,
     "metadata": {},
     "output_type": "execute_result"
    }
   ],
   "source": [
    "split_data(getMostCorrelated(df, 7))"
   ]
  },
  {
   "cell_type": "code",
   "execution_count": null,
   "metadata": {},
   "outputs": [],
   "source": []
  }
 ],
 "metadata": {
  "kernelspec": {
   "display_name": "Python 3",
   "language": "python",
   "name": "python3"
  },
  "language_info": {
   "codemirror_mode": {
    "name": "ipython",
    "version": 3
   },
   "file_extension": ".py",
   "mimetype": "text/x-python",
   "name": "python",
   "nbconvert_exporter": "python",
   "pygments_lexer": "ipython3",
   "version": "3.8.2"
  }
 },
 "nbformat": 4,
 "nbformat_minor": 4
}
